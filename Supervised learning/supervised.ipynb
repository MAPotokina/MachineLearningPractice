{
 "cells": [
  {
   "cell_type": "markdown",
   "metadata": {},
   "source": [
    "# Практическое задание"
   ]
  },
  {
   "cell_type": "markdown",
   "metadata": {},
   "source": [
    "В этом практическом задании мы поработаем с алгоритмом линейной регрессии и нормализацией признаков. Для начала загрузите данные из файла `data.csv`, который содержит 100 признаков f1, f2, ..., f100 и целевую переменную target. Для загрузки данных используете функцию `read_csv` из библиотеки `pandas`. Выделите матрицу признаков и целевую переменную из загруженных данных."
   ]
  },
  {
   "cell_type": "markdown",
   "metadata": {},
   "source": [
    "### *РЕШЕНИЕ*"
   ]
  },
  {
   "cell_type": "code",
   "execution_count": 99,
   "metadata": {},
   "outputs": [
    {
     "data": {
      "text/html": [
       "<div>\n",
       "<style scoped>\n",
       "    .dataframe tbody tr th:only-of-type {\n",
       "        vertical-align: middle;\n",
       "    }\n",
       "\n",
       "    .dataframe tbody tr th {\n",
       "        vertical-align: top;\n",
       "    }\n",
       "\n",
       "    .dataframe thead th {\n",
       "        text-align: right;\n",
       "    }\n",
       "</style>\n",
       "<table border=\"1\" class=\"dataframe\">\n",
       "  <thead>\n",
       "    <tr style=\"text-align: right;\">\n",
       "      <th></th>\n",
       "      <th>f1</th>\n",
       "      <th>f2</th>\n",
       "      <th>f3</th>\n",
       "      <th>f4</th>\n",
       "      <th>f5</th>\n",
       "      <th>f6</th>\n",
       "      <th>f7</th>\n",
       "      <th>f8</th>\n",
       "      <th>f9</th>\n",
       "      <th>f10</th>\n",
       "      <th>...</th>\n",
       "      <th>f92</th>\n",
       "      <th>f93</th>\n",
       "      <th>f94</th>\n",
       "      <th>f95</th>\n",
       "      <th>f96</th>\n",
       "      <th>f97</th>\n",
       "      <th>f98</th>\n",
       "      <th>f99</th>\n",
       "      <th>f100</th>\n",
       "      <th>target</th>\n",
       "    </tr>\n",
       "  </thead>\n",
       "  <tbody>\n",
       "    <tr>\n",
       "      <th>0</th>\n",
       "      <td>-1.979019</td>\n",
       "      <td>0.392456</td>\n",
       "      <td>1.195177</td>\n",
       "      <td>0.209349</td>\n",
       "      <td>-1.209435</td>\n",
       "      <td>0.868798</td>\n",
       "      <td>0.384209</td>\n",
       "      <td>-0.426571</td>\n",
       "      <td>-0.977939</td>\n",
       "      <td>-1.419877</td>\n",
       "      <td>...</td>\n",
       "      <td>-1.587188</td>\n",
       "      <td>-0.612423</td>\n",
       "      <td>-0.281845</td>\n",
       "      <td>-0.625773</td>\n",
       "      <td>-0.907327</td>\n",
       "      <td>-0.800223</td>\n",
       "      <td>0.065892</td>\n",
       "      <td>0.271684</td>\n",
       "      <td>-0.201420</td>\n",
       "      <td>-45.587910</td>\n",
       "    </tr>\n",
       "    <tr>\n",
       "      <th>1</th>\n",
       "      <td>0.613518</td>\n",
       "      <td>0.051946</td>\n",
       "      <td>0.238789</td>\n",
       "      <td>-0.071601</td>\n",
       "      <td>-0.080717</td>\n",
       "      <td>1.727543</td>\n",
       "      <td>-0.483886</td>\n",
       "      <td>0.635172</td>\n",
       "      <td>0.038003</td>\n",
       "      <td>1.573987</td>\n",
       "      <td>...</td>\n",
       "      <td>0.059630</td>\n",
       "      <td>0.120031</td>\n",
       "      <td>0.399223</td>\n",
       "      <td>0.494030</td>\n",
       "      <td>0.197600</td>\n",
       "      <td>0.652323</td>\n",
       "      <td>0.916328</td>\n",
       "      <td>-1.556582</td>\n",
       "      <td>-0.370614</td>\n",
       "      <td>137.329473</td>\n",
       "    </tr>\n",
       "    <tr>\n",
       "      <th>2</th>\n",
       "      <td>0.444198</td>\n",
       "      <td>-0.535317</td>\n",
       "      <td>0.664927</td>\n",
       "      <td>-0.327017</td>\n",
       "      <td>1.935154</td>\n",
       "      <td>-1.776012</td>\n",
       "      <td>0.207803</td>\n",
       "      <td>0.126178</td>\n",
       "      <td>0.252569</td>\n",
       "      <td>0.889037</td>\n",
       "      <td>...</td>\n",
       "      <td>0.195482</td>\n",
       "      <td>1.384532</td>\n",
       "      <td>0.522251</td>\n",
       "      <td>-0.127655</td>\n",
       "      <td>-0.403076</td>\n",
       "      <td>-0.111509</td>\n",
       "      <td>-0.183150</td>\n",
       "      <td>0.977816</td>\n",
       "      <td>-1.171654</td>\n",
       "      <td>141.355900</td>\n",
       "    </tr>\n",
       "    <tr>\n",
       "      <th>3</th>\n",
       "      <td>-1.485186</td>\n",
       "      <td>-0.101987</td>\n",
       "      <td>0.817982</td>\n",
       "      <td>-0.846498</td>\n",
       "      <td>-0.660834</td>\n",
       "      <td>-0.073107</td>\n",
       "      <td>-0.247340</td>\n",
       "      <td>-0.775607</td>\n",
       "      <td>1.015937</td>\n",
       "      <td>-1.075737</td>\n",
       "      <td>...</td>\n",
       "      <td>0.753417</td>\n",
       "      <td>-0.403380</td>\n",
       "      <td>0.087974</td>\n",
       "      <td>-1.525572</td>\n",
       "      <td>2.404838</td>\n",
       "      <td>0.011863</td>\n",
       "      <td>0.994299</td>\n",
       "      <td>-2.152914</td>\n",
       "      <td>-0.213593</td>\n",
       "      <td>-65.882640</td>\n",
       "    </tr>\n",
       "    <tr>\n",
       "      <th>4</th>\n",
       "      <td>0.276582</td>\n",
       "      <td>-0.208468</td>\n",
       "      <td>0.185689</td>\n",
       "      <td>0.508608</td>\n",
       "      <td>-1.527168</td>\n",
       "      <td>-1.373403</td>\n",
       "      <td>-0.481766</td>\n",
       "      <td>-2.854627</td>\n",
       "      <td>1.868818</td>\n",
       "      <td>-1.179460</td>\n",
       "      <td>...</td>\n",
       "      <td>-0.985540</td>\n",
       "      <td>0.419706</td>\n",
       "      <td>-0.610858</td>\n",
       "      <td>0.209534</td>\n",
       "      <td>-0.538048</td>\n",
       "      <td>0.164295</td>\n",
       "      <td>-0.984655</td>\n",
       "      <td>-0.598438</td>\n",
       "      <td>-0.887770</td>\n",
       "      <td>-333.409221</td>\n",
       "    </tr>\n",
       "  </tbody>\n",
       "</table>\n",
       "<p>5 rows × 101 columns</p>\n",
       "</div>"
      ],
      "text/plain": [
       "         f1        f2        f3        f4        f5        f6        f7  \\\n",
       "0 -1.979019  0.392456  1.195177  0.209349 -1.209435  0.868798  0.384209   \n",
       "1  0.613518  0.051946  0.238789 -0.071601 -0.080717  1.727543 -0.483886   \n",
       "2  0.444198 -0.535317  0.664927 -0.327017  1.935154 -1.776012  0.207803   \n",
       "3 -1.485186 -0.101987  0.817982 -0.846498 -0.660834 -0.073107 -0.247340   \n",
       "4  0.276582 -0.208468  0.185689  0.508608 -1.527168 -1.373403 -0.481766   \n",
       "\n",
       "         f8        f9       f10  ...       f92       f93       f94       f95  \\\n",
       "0 -0.426571 -0.977939 -1.419877  ... -1.587188 -0.612423 -0.281845 -0.625773   \n",
       "1  0.635172  0.038003  1.573987  ...  0.059630  0.120031  0.399223  0.494030   \n",
       "2  0.126178  0.252569  0.889037  ...  0.195482  1.384532  0.522251 -0.127655   \n",
       "3 -0.775607  1.015937 -1.075737  ...  0.753417 -0.403380  0.087974 -1.525572   \n",
       "4 -2.854627  1.868818 -1.179460  ... -0.985540  0.419706 -0.610858  0.209534   \n",
       "\n",
       "        f96       f97       f98       f99      f100      target  \n",
       "0 -0.907327 -0.800223  0.065892  0.271684 -0.201420  -45.587910  \n",
       "1  0.197600  0.652323  0.916328 -1.556582 -0.370614  137.329473  \n",
       "2 -0.403076 -0.111509 -0.183150  0.977816 -1.171654  141.355900  \n",
       "3  2.404838  0.011863  0.994299 -2.152914 -0.213593  -65.882640  \n",
       "4 -0.538048  0.164295 -0.984655 -0.598438 -0.887770 -333.409221  \n",
       "\n",
       "[5 rows x 101 columns]"
      ]
     },
     "execution_count": 99,
     "metadata": {},
     "output_type": "execute_result"
    }
   ],
   "source": [
    "import numpy as np\n",
    "import pandas as pd\n",
    "df = pd.read_csv('data.csv')\n",
    "df.head()"
   ]
  },
  {
   "cell_type": "code",
   "execution_count": 100,
   "metadata": {},
   "outputs": [
    {
     "data": {
      "text/plain": [
       "(125, 101)"
      ]
     },
     "execution_count": 100,
     "metadata": {},
     "output_type": "execute_result"
    }
   ],
   "source": [
    "df.shape"
   ]
  },
  {
   "cell_type": "markdown",
   "metadata": {},
   "source": [
    "Далее, разделите загруженный датасет на тренировочную и тестовую выборку. Для этого используйте функцию `train_test_split` из модуля `sklearn.model_selection` с параметрами `random_state=42` и `test_size=0.33`. Обучите линейную регрессию на тренировочных данных и оцените среднеквадратическую ошибку на тестовых данных. Один из вариантов линейной регрессии в `scikit-learn` представлен классом `Ridge` из `sklearn.linear_model`.\n",
    "Используйте параметр `random_state=42` в конструкторе класса при создании его экземпляра. Оценку среднеквадратичной ошибки проведите с помощью функции `mean_squared_error` из модуля `sklearn.metrics`. В качестве ответа `answer1` приведите это значение округлённое с точностью до двух знаков."
   ]
  },
  {
   "cell_type": "markdown",
   "metadata": {},
   "source": [
    "### *РЕШЕНИЕ*"
   ]
  },
  {
   "cell_type": "code",
   "execution_count": 101,
   "metadata": {},
   "outputs": [],
   "source": [
    "from sklearn.model_selection import train_test_split\n",
    "from sklearn.linear_model import Ridge\n",
    "from sklearn.metrics import mean_squared_error\n"
   ]
  },
  {
   "cell_type": "code",
   "execution_count": 102,
   "metadata": {},
   "outputs": [],
   "source": [
    "df_train, df_test = train_test_split(df, test_size=0.33, random_state=42)"
   ]
  },
  {
   "cell_type": "code",
   "execution_count": 103,
   "metadata": {},
   "outputs": [],
   "source": [
    "clf = Ridge(random_state=42)"
   ]
  },
  {
   "cell_type": "code",
   "execution_count": 104,
   "metadata": {},
   "outputs": [],
   "source": [
    "model = clf.fit(df_train.loc[:, 'f1':'f100'], df_train.target)"
   ]
  },
  {
   "cell_type": "code",
   "execution_count": 105,
   "metadata": {},
   "outputs": [],
   "source": [
    "predicted = model.predict(df_test.loc[:, 'f1':'f100'])"
   ]
  },
  {
   "cell_type": "code",
   "execution_count": 106,
   "metadata": {},
   "outputs": [],
   "source": [
    "answer1 = mean_squared_error(df_test.target, predicted)"
   ]
  },
  {
   "cell_type": "markdown",
   "metadata": {},
   "source": [
    "Далее вам предлагается нормализовать данные используя `StandardScaler` из `sklearn.preprocessing`. По своей сути операция нормализации в данном случае представляет из себя вычитание среднего из матрицы признаков и деление на среднеквадратическое отклонение. После этого, повторите процесс разбиения выборки на тренировочную и тестовую с теми же самыми параметрами и обучите линейную регрессию. Как изменилось качество на тестовых данных? Приведите значение среднеквадратической ошибки в качестве ответа `answer2` округлённое с точностью до двух знаков."
   ]
  },
  {
   "cell_type": "code",
   "execution_count": 116,
   "metadata": {},
   "outputs": [],
   "source": [
    "from sklearn.preprocessing import StandardScaler\n",
    "scaler = StandardScaler()\n",
    "ddf = df.loc[:, 'f1':'f100']"
   ]
  },
  {
   "cell_type": "code",
   "execution_count": 117,
   "metadata": {},
   "outputs": [],
   "source": [
    "scaled_features = StandardScaler().fit_transform(ddf.values)"
   ]
  },
  {
   "cell_type": "code",
   "execution_count": 119,
   "metadata": {},
   "outputs": [],
   "source": [
    "sf = pd.DataFrame(scaled_features, index=ddf.index, columns=ddf.columns)"
   ]
  },
  {
   "cell_type": "code",
   "execution_count": 122,
   "metadata": {},
   "outputs": [],
   "source": [
    "sf['target'] = df['target']"
   ]
  },
  {
   "cell_type": "code",
   "execution_count": 129,
   "metadata": {},
   "outputs": [
    {
     "data": {
      "text/html": [
       "<div>\n",
       "<style scoped>\n",
       "    .dataframe tbody tr th:only-of-type {\n",
       "        vertical-align: middle;\n",
       "    }\n",
       "\n",
       "    .dataframe tbody tr th {\n",
       "        vertical-align: top;\n",
       "    }\n",
       "\n",
       "    .dataframe thead th {\n",
       "        text-align: right;\n",
       "    }\n",
       "</style>\n",
       "<table border=\"1\" class=\"dataframe\">\n",
       "  <thead>\n",
       "    <tr style=\"text-align: right;\">\n",
       "      <th></th>\n",
       "      <th>f1</th>\n",
       "      <th>f2</th>\n",
       "      <th>f3</th>\n",
       "      <th>f4</th>\n",
       "      <th>f5</th>\n",
       "      <th>f6</th>\n",
       "      <th>f7</th>\n",
       "      <th>f8</th>\n",
       "      <th>f9</th>\n",
       "      <th>f10</th>\n",
       "      <th>...</th>\n",
       "      <th>f92</th>\n",
       "      <th>f93</th>\n",
       "      <th>f94</th>\n",
       "      <th>f95</th>\n",
       "      <th>f96</th>\n",
       "      <th>f97</th>\n",
       "      <th>f98</th>\n",
       "      <th>f99</th>\n",
       "      <th>f100</th>\n",
       "      <th>target</th>\n",
       "    </tr>\n",
       "  </thead>\n",
       "  <tbody>\n",
       "    <tr>\n",
       "      <th>0</th>\n",
       "      <td>-2.014002</td>\n",
       "      <td>0.498215</td>\n",
       "      <td>1.228623</td>\n",
       "      <td>0.301818</td>\n",
       "      <td>-1.182191</td>\n",
       "      <td>0.722525</td>\n",
       "      <td>0.485510</td>\n",
       "      <td>-0.396947</td>\n",
       "      <td>-0.805139</td>\n",
       "      <td>-1.383074</td>\n",
       "      <td>...</td>\n",
       "      <td>-1.517387</td>\n",
       "      <td>-0.810769</td>\n",
       "      <td>-0.334850</td>\n",
       "      <td>-0.565957</td>\n",
       "      <td>-0.912196</td>\n",
       "      <td>-0.683435</td>\n",
       "      <td>0.062078</td>\n",
       "      <td>0.315477</td>\n",
       "      <td>-0.401658</td>\n",
       "      <td>-45.587910</td>\n",
       "    </tr>\n",
       "    <tr>\n",
       "      <th>1</th>\n",
       "      <td>0.659274</td>\n",
       "      <td>0.126015</td>\n",
       "      <td>0.307872</td>\n",
       "      <td>0.005771</td>\n",
       "      <td>-0.116166</td>\n",
       "      <td>1.495956</td>\n",
       "      <td>-0.374866</td>\n",
       "      <td>0.592723</td>\n",
       "      <td>0.154336</td>\n",
       "      <td>1.608608</td>\n",
       "      <td>...</td>\n",
       "      <td>0.084149</td>\n",
       "      <td>-0.018884</td>\n",
       "      <td>0.397813</td>\n",
       "      <td>0.544947</td>\n",
       "      <td>0.104836</td>\n",
       "      <td>0.800926</td>\n",
       "      <td>0.916787</td>\n",
       "      <td>-1.448179</td>\n",
       "      <td>-0.592167</td>\n",
       "      <td>137.329473</td>\n",
       "    </tr>\n",
       "    <tr>\n",
       "      <th>2</th>\n",
       "      <td>0.484682</td>\n",
       "      <td>-0.515900</td>\n",
       "      <td>0.718131</td>\n",
       "      <td>-0.263369</td>\n",
       "      <td>1.787733</td>\n",
       "      <td>-1.659533</td>\n",
       "      <td>0.310672</td>\n",
       "      <td>0.118281</td>\n",
       "      <td>0.356976</td>\n",
       "      <td>0.924157</td>\n",
       "      <td>...</td>\n",
       "      <td>0.216265</td>\n",
       "      <td>1.348217</td>\n",
       "      <td>0.530160</td>\n",
       "      <td>-0.071797</td>\n",
       "      <td>-0.448057</td>\n",
       "      <td>0.020364</td>\n",
       "      <td>-0.188215</td>\n",
       "      <td>0.996655</td>\n",
       "      <td>-1.494120</td>\n",
       "      <td>141.355900</td>\n",
       "    </tr>\n",
       "    <tr>\n",
       "      <th>3</th>\n",
       "      <td>-1.504790</td>\n",
       "      <td>-0.042243</td>\n",
       "      <td>0.865483</td>\n",
       "      <td>-0.810762</td>\n",
       "      <td>-0.664062</td>\n",
       "      <td>-0.125806</td>\n",
       "      <td>-0.140424</td>\n",
       "      <td>-0.722289</td>\n",
       "      <td>1.077916</td>\n",
       "      <td>-1.039184</td>\n",
       "      <td>...</td>\n",
       "      <td>0.758859</td>\n",
       "      <td>-0.584764</td>\n",
       "      <td>0.062985</td>\n",
       "      <td>-1.458606</td>\n",
       "      <td>2.136494</td>\n",
       "      <td>0.146438</td>\n",
       "      <td>0.995150</td>\n",
       "      <td>-2.023436</td>\n",
       "      <td>-0.415365</td>\n",
       "      <td>-65.882640</td>\n",
       "    </tr>\n",
       "    <tr>\n",
       "      <th>4</th>\n",
       "      <td>0.311845</td>\n",
       "      <td>-0.158634</td>\n",
       "      <td>0.256750</td>\n",
       "      <td>0.617157</td>\n",
       "      <td>-1.482275</td>\n",
       "      <td>-1.296922</td>\n",
       "      <td>-0.372765</td>\n",
       "      <td>-2.660181</td>\n",
       "      <td>1.883393</td>\n",
       "      <td>-1.142832</td>\n",
       "      <td>...</td>\n",
       "      <td>-0.932282</td>\n",
       "      <td>0.305106</td>\n",
       "      <td>-0.688787</td>\n",
       "      <td>0.262712</td>\n",
       "      <td>-0.572292</td>\n",
       "      <td>0.302209</td>\n",
       "      <td>-0.993747</td>\n",
       "      <td>-0.523895</td>\n",
       "      <td>-1.174472</td>\n",
       "      <td>-333.409221</td>\n",
       "    </tr>\n",
       "  </tbody>\n",
       "</table>\n",
       "<p>5 rows × 101 columns</p>\n",
       "</div>"
      ],
      "text/plain": [
       "         f1        f2        f3        f4        f5        f6        f7  \\\n",
       "0 -2.014002  0.498215  1.228623  0.301818 -1.182191  0.722525  0.485510   \n",
       "1  0.659274  0.126015  0.307872  0.005771 -0.116166  1.495956 -0.374866   \n",
       "2  0.484682 -0.515900  0.718131 -0.263369  1.787733 -1.659533  0.310672   \n",
       "3 -1.504790 -0.042243  0.865483 -0.810762 -0.664062 -0.125806 -0.140424   \n",
       "4  0.311845 -0.158634  0.256750  0.617157 -1.482275 -1.296922 -0.372765   \n",
       "\n",
       "         f8        f9       f10  ...       f92       f93       f94       f95  \\\n",
       "0 -0.396947 -0.805139 -1.383074  ... -1.517387 -0.810769 -0.334850 -0.565957   \n",
       "1  0.592723  0.154336  1.608608  ...  0.084149 -0.018884  0.397813  0.544947   \n",
       "2  0.118281  0.356976  0.924157  ...  0.216265  1.348217  0.530160 -0.071797   \n",
       "3 -0.722289  1.077916 -1.039184  ...  0.758859 -0.584764  0.062985 -1.458606   \n",
       "4 -2.660181  1.883393 -1.142832  ... -0.932282  0.305106 -0.688787  0.262712   \n",
       "\n",
       "        f96       f97       f98       f99      f100      target  \n",
       "0 -0.912196 -0.683435  0.062078  0.315477 -0.401658  -45.587910  \n",
       "1  0.104836  0.800926  0.916787 -1.448179 -0.592167  137.329473  \n",
       "2 -0.448057  0.020364 -0.188215  0.996655 -1.494120  141.355900  \n",
       "3  2.136494  0.146438  0.995150 -2.023436 -0.415365  -65.882640  \n",
       "4 -0.572292  0.302209 -0.993747 -0.523895 -1.174472 -333.409221  \n",
       "\n",
       "[5 rows x 101 columns]"
      ]
     },
     "execution_count": 129,
     "metadata": {},
     "output_type": "execute_result"
    }
   ],
   "source": [
    "sf.head()"
   ]
  },
  {
   "cell_type": "code",
   "execution_count": 123,
   "metadata": {},
   "outputs": [],
   "source": [
    "sf_train, sf_test = train_test_split(sf, test_size=0.33, random_state=42)"
   ]
  },
  {
   "cell_type": "code",
   "execution_count": 124,
   "metadata": {},
   "outputs": [],
   "source": [
    "clfs = Ridge(random_state=42)"
   ]
  },
  {
   "cell_type": "code",
   "execution_count": 125,
   "metadata": {},
   "outputs": [],
   "source": [
    "models = clfs.fit(sf_train.loc[:, 'f1':'f100'], sf_train.target)"
   ]
  },
  {
   "cell_type": "code",
   "execution_count": 126,
   "metadata": {},
   "outputs": [],
   "source": [
    "predicteds = models.predict(sf_test.loc[:, 'f1':'f100'])"
   ]
  },
  {
   "cell_type": "code",
   "execution_count": 127,
   "metadata": {},
   "outputs": [
    {
     "data": {
      "text/plain": [
       "4464.792465719157"
      ]
     },
     "execution_count": 127,
     "metadata": {},
     "output_type": "execute_result"
    }
   ],
   "source": [
    "answer2 = mean_squared_error(sf_test.target, predicteds)\n",
    "answer2"
   ]
  },
  {
   "cell_type": "markdown",
   "metadata": {},
   "source": [
    "## Строка с ответами"
   ]
  },
  {
   "cell_type": "code",
   "execution_count": 128,
   "metadata": {},
   "outputs": [
    {
     "name": "stdout",
     "output_type": "stream",
     "text": [
      "mse 1: 4921.83\n",
      "mse 2: 4464.79\n"
     ]
    }
   ],
   "source": [
    "print('mse 1: {0:.2f}\\nmse 2: {1:.2f}'.format(answer1, answer2))"
   ]
  },
  {
   "cell_type": "code",
   "execution_count": null,
   "metadata": {},
   "outputs": [],
   "source": []
  }
 ],
 "metadata": {
  "kernelspec": {
   "display_name": "Python 3",
   "language": "python",
   "name": "python3"
  },
  "language_info": {
   "codemirror_mode": {
    "name": "ipython",
    "version": 3
   },
   "file_extension": ".py",
   "mimetype": "text/x-python",
   "name": "python",
   "nbconvert_exporter": "python",
   "pygments_lexer": "ipython3",
   "version": "3.6.8"
  }
 },
 "nbformat": 4,
 "nbformat_minor": 2
}
